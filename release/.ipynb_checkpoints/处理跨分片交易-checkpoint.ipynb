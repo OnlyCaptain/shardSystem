{
 "cells": [
  {
   "cell_type": "code",
   "execution_count": 8,
   "id": "7eb01294",
   "metadata": {},
   "outputs": [
    {
     "data": {
      "text/plain": [
       "['shard_0.csv', 'shard_1.csv', 'shard_2.csv']"
      ]
     },
     "execution_count": 8,
     "metadata": {},
     "output_type": "execute_result"
    }
   ],
   "source": [
    "import pandas as pd\n",
    "import numpy as np\n",
    "import os\n",
    "PATH = \"./outputcsv/\"\n",
    "df=pd.read_csv('outputcsv/shard_0.csv',sep=',') #filename可以直接从盘符开始，标明每一级的文件夹直到csv文件，header=None表示头部为空，sep=' '表示数据间使用空格作为分隔符，如果分隔符是逗号，只需换成 ‘，’即可。\n",
    "list_dir = os.listdir(PATH)\n",
    "list_dir"
   ]
  },
  {
   "cell_type": "code",
   "execution_count": null,
   "id": "dd3dbdf7",
   "metadata": {},
   "outputs": [],
   "source": []
  }
 ],
 "metadata": {
  "kernelspec": {
   "display_name": "Python 3 (ipykernel)",
   "language": "python",
   "name": "python3"
  },
  "language_info": {
   "codemirror_mode": {
    "name": "ipython",
    "version": 3
   },
   "file_extension": ".py",
   "mimetype": "text/x-python",
   "name": "python",
   "nbconvert_exporter": "python",
   "pygments_lexer": "ipython3",
   "version": "3.9.5"
  }
 },
 "nbformat": 4,
 "nbformat_minor": 5
}
